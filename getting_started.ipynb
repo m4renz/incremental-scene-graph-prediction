{
 "cells": [
  {
   "cell_type": "markdown",
   "id": "a4f9b88d",
   "metadata": {},
   "source": [
    "# Getting Started"
   ]
  },
  {
   "cell_type": "code",
   "execution_count": null,
   "id": "d3746547",
   "metadata": {},
   "outputs": [],
   "source": [
    "from pathlib import Path\n",
    "import lightning as L\n",
    "\n",
    "from ssg_tools.dataset.hetero_dataset import HeteroSceneGraphModule\n",
    "from ssg_tools.models.ksgn import IncrementalKSGN\n",
    "from lightning.pytorch.callbacks import ModelCheckpoint"
   ]
  },
  {
   "cell_type": "markdown",
   "id": "a955a3f2",
   "metadata": {},
   "source": [
    "Might need to adjust the root path"
   ]
  },
  {
   "cell_type": "code",
   "execution_count": null,
   "id": "aaefc091",
   "metadata": {},
   "outputs": [],
   "source": [
    "root = Path('/path/to/data/root')\n",
    "data_dir = root / \"hetero_scene_graph\"\n",
    "artifacts_dir = Path(\"artifacts\")"
   ]
  },
  {
   "cell_type": "code",
   "execution_count": null,
   "id": "fa5958da",
   "metadata": {},
   "outputs": [],
   "source": [
    "datamodule = HeteroSceneGraphModule(root, \n",
    "                                    shuffle=True, \n",
    "                                    batch_size=64,\n",
    "                                    num_workers=16, \n",
    "                                    corruption_rate=0.0, \n",
    "                                    embedding_type=\"clip\",\n",
    "                                    edges_to_remove=[(\"new\", \"to\", \"old\")],  # hgt fails otherwise\n",
    "                                    hierarchical=True,\n",
    "                                    pin_memory=True,\n",
    "                                    )\n",
    "datamodule.setup(\"fit\")"
   ]
  },
  {
   "cell_type": "markdown",
   "id": "3b1b5d57",
   "metadata": {},
   "source": [
    "Multiple (n=batchsize) heterogeneous graphs (frames) are fused into one big disconnected graph as batch"
   ]
  },
  {
   "cell_type": "code",
   "execution_count": null,
   "id": "e5609810",
   "metadata": {},
   "outputs": [],
   "source": [
    "batch = next(iter(datamodule.train_dataloader()))\n",
    "batch"
   ]
  },
  {
   "cell_type": "markdown",
   "id": "8285612c",
   "metadata": {},
   "source": [
    "Metadata is necessary to build the heterogeneous GNN"
   ]
  },
  {
   "cell_type": "code",
   "execution_count": null,
   "id": "c82cf51f",
   "metadata": {},
   "outputs": [],
   "source": [
    "metadata = batch.metadata()\n",
    "metadata"
   ]
  },
  {
   "cell_type": "code",
   "execution_count": null,
   "id": "ee7d75fe",
   "metadata": {},
   "outputs": [],
   "source": [
    "model = IncrementalKSGN(metadata=metadata,\n",
    "                        gnn_type=\"sage\",\n",
    "                        embedding_type=\"clip\",\n",
    "                        pointnet_output_dim=32,\n",
    "                        edge_emb_dim=64,\n",
    "                        gnn_hidden_dim=256,\n",
    "                        gnn_out_dim=128,\n",
    "                        gnn_num_layers=2,\n",
    "                        dropout=0.5,\n",
    "                        lr=0.00014981950627824397,\n",
    "                        norm='layer',\n",
    "                        num_node_classes=27,\n",
    "                        num_edge_classes=16,\n",
    "                        nodes_to_predict=[\"new\"],\n",
    "                        edges_to_predict=[(\"new\", \"to\", \"new\")],\n",
    "                        weights_node=\"nodes_log_scaled\",\n",
    "                        weights_edge=\"edges_log_scaled\",\n",
    "                        weights_path=artifacts_dir / \"weights.json\",\n",
    "                        gamma_edge=40.0,\n",
    "                        )"
   ]
  },
  {
   "cell_type": "markdown",
   "id": "6c9392b9",
   "metadata": {},
   "source": [
    "Optional: Callbacks for saving the model."
   ]
  },
  {
   "cell_type": "code",
   "execution_count": null,
   "id": "47c7f473",
   "metadata": {},
   "outputs": [],
   "source": [
    "checkpoint_topk = ModelCheckpoint(monitor='epoch', mode='max', save_top_k=1, filename='last')\n",
    "\n",
    "# from lightning.pytorch.loggers import MLFlowLogger\n",
    "# mlf_logger = MLFlowLogger(experiment_name=\"Default\", log_model=False, save_dir=\"logs\")"
   ]
  },
  {
   "cell_type": "code",
   "execution_count": null,
   "id": "d80c44f3",
   "metadata": {},
   "outputs": [],
   "source": [
    "trainer = L.Trainer(fast_dev_run=True,\n",
    "                    # logger=mlf_logger,\n",
    "                    max_epochs=1,\n",
    "                    accelerator='auto',\n",
    "                    callbacks=[checkpoint_topk],\n",
    "                    limit_train_batches=0.05,\n",
    "                    limit_val_batches=0.05,\n",
    "                    limit_test_batches=0.01,\n",
    "                    )\n",
    "trainer.fit(model, datamodule)\n",
    "# trainer.validate(model, datamodule)\n",
    "res = trainer.test(model, datamodule)\n"
   ]
  }
 ],
 "metadata": {
  "kernelspec": {
   "display_name": "Python 3",
   "language": "python",
   "name": "python3"
  },
  "language_info": {
   "codemirror_mode": {
    "name": "ipython",
    "version": 3
   },
   "file_extension": ".py",
   "mimetype": "text/x-python",
   "name": "python",
   "nbconvert_exporter": "python",
   "pygments_lexer": "ipython3",
   "version": "3.12.2"
  }
 },
 "nbformat": 4,
 "nbformat_minor": 5
}
